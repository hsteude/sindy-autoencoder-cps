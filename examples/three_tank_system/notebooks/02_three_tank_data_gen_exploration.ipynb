{
 "cells": [
  {
   "cell_type": "code",
   "execution_count": null,
   "metadata": {},
   "outputs": [],
   "source": [
    "import os\n",
    "os.chdir('../../..')"
   ]
  },
  {
   "cell_type": "code",
   "execution_count": null,
   "metadata": {},
   "outputs": [],
   "source": [
    "from IPython.core.display import display, HTML\n",
    "display(HTML(\"<style>.container { width:100% !important; }</style>\"))"
   ]
  },
  {
   "cell_type": "code",
   "execution_count": null,
   "metadata": {},
   "outputs": [],
   "source": [
    "from examples.three_tank_system.data_gen import ThreeTankDataGenerator\n",
    "import pandas as pd\n",
    "import examples.three_tank_system.constants as const\n",
    "import pysindy as ps\n",
    "import numpy as np\n",
    "import plotly.express as px\n",
    "from ipywidgets import interact\n",
    "import ipywidgets as widgets\n",
    "from plotly.subplots import make_subplots\n",
    "import plotly.graph_objects as go\n",
    "%load_ext autoreload\n",
    "%autoreload 2"
   ]
  },
  {
   "cell_type": "code",
   "execution_count": null,
   "metadata": {},
   "outputs": [],
   "source": [
    "df = pd.read_parquet(const.X_SPACE_DATA_PATH)"
   ]
  },
  {
   "cell_type": "code",
   "execution_count": null,
   "metadata": {},
   "outputs": [],
   "source": [
    "df.head()"
   ]
  },
  {
   "cell_type": "code",
   "execution_count": null,
   "metadata": {},
   "outputs": [],
   "source": [
    "df.describe()"
   ]
  },
  {
   "cell_type": "code",
   "execution_count": null,
   "metadata": {},
   "outputs": [],
   "source": []
  },
  {
   "cell_type": "code",
   "execution_count": null,
   "metadata": {},
   "outputs": [],
   "source": [
    "def _create_ts_plot(idx):\n",
    "    df_plot = df[df[const.UID_INITIAL_STATE_COL_NAME] == idx]\n",
    "    fig = make_subplots(rows=2, cols=1, shared_xaxes=True)\n",
    "    # signal 1\n",
    "    for col, name in zip(const.Z_COL_NAMES, ['h1(t)', 'h2(t)', 'h3(t)']):\n",
    "        fig.add_trace(go.Scatter(x=df_plot.time, y=df_plot[col], name=name,\n",
    "                      mode=\"lines\", opacity=1),\n",
    "            row=1, col=1)\n",
    "\n",
    "    for col, name in zip(const.Z_DOT_COL_NAMES, ['h1_dot(t)', 'h2_dot(t)', 'h3_dot(t)']):\n",
    "        fig.add_trace(go.Scatter(x=df_plot.time, y=df_plot[col], name=name,\n",
    "                      mode=\"lines\", opacity=1),\n",
    "            row=2, col=1)\n",
    "\n",
    "    fig.update_xaxes(title_text='time')\n",
    "    fig.update_yaxes(title_text='x', row=1)\n",
    "    fig.update_yaxes(title_text='x_dot', row=2)\n",
    "    fig.update_layout(title_text=\"Latent neuron activations vs. hidden states\", showlegend=True)\n",
    "    fig.show()\n",
    "\n",
    "interact(_create_ts_plot, idx=list(range(const.NUMBER_INITIAL_STATES)))"
   ]
  },
  {
   "cell_type": "markdown",
   "metadata": {},
   "source": [
    "# Lets try the pysindy exercise in the z-space!"
   ]
  },
  {
   "cell_type": "code",
   "execution_count": null,
   "metadata": {},
   "outputs": [],
   "source": [
    "library_functions = [\n",
    "#     lambda x : np.exp(x),\n",
    "    lambda x : 1./x,\n",
    "    lambda x : x,\n",
    "    lambda x : np.sin(x),\n",
    "    lambda x : np.cos(x),\n",
    "    lambda x,y : np.sin(x+y),\n",
    "    lambda x,y : np.cos(x+y),\n",
    "#     lambda x,y : np.sign(x-y)*np.sqrt(np.abs(x-y)),\n",
    "    lambda x: x**2,\n",
    "#     lambda x: np.sqrt(x),\n",
    "    lambda x,y: x*y,\n",
    "    lambda x,y: x**2*y,\n",
    "    lambda x,y: x*y**2\n",
    "]\n",
    "library_function_names = [\n",
    "#     lambda x : 'exp(' + x + ')',\n",
    "    lambda x : '1/' + x,\n",
    "    lambda x : x,\n",
    "    lambda x : f'sin({x})',\n",
    "    lambda x : f'cos({x})',\n",
    "    lambda x,y : 'sin(' + x + '+' + y + ')',\n",
    "    lambda x,y : f'cos({x}+{y})',\n",
    "#     lambda x,y : 'sign('+x+'-'+y+')*sqrt('+x+' - '+y+')',\n",
    "    lambda x: x+'^2',\n",
    "#     lambda x: f'sqrt({x})',\n",
    "    lambda x,y: f'{x}*{y}',\n",
    "    lambda x,y: f'{x}^2*{y}',\n",
    "    lambda x,y: f'{x}*{y}^2'\n",
    "]\n",
    "feature_library = ps.CustomLibrary(\n",
    "    library_functions=library_functions, function_names=library_function_names\n",
    ")"
   ]
  },
  {
   "cell_type": "code",
   "execution_count": null,
   "metadata": {},
   "outputs": [],
   "source": [
    "optimizer = ps.STLSQ(threshold=.01)\n",
    "model = ps.SINDy(\n",
    "    feature_library=feature_library,\n",
    "    optimizer=optimizer,\n",
    "    feature_names=[\"h1\", \"h2\", \"h3\"],\n",
    ")\n",
    "model.fit(df_z[const.Z_COL_NAMES].values, x_dot=df_z[const.Z_DOT_COL_NAMES].values, t=0.01)\n",
    "model.print()"
   ]
  },
  {
   "cell_type": "markdown",
   "metadata": {},
   "source": [
    "## NICE!"
   ]
  },
  {
   "cell_type": "code",
   "execution_count": null,
   "metadata": {},
   "outputs": [],
   "source": [
    "feature_library.get_feature_names()"
   ]
  },
  {
   "cell_type": "code",
   "execution_count": null,
   "metadata": {},
   "outputs": [],
   "source": [
    "len(const.X_COL_NAMES)"
   ]
  },
  {
   "cell_type": "code",
   "execution_count": null,
   "metadata": {},
   "outputs": [],
   "source": [
    "df_x = pd.read_parquet(const.X_SPACE_DATA_PATH)"
   ]
  },
  {
   "cell_type": "code",
   "execution_count": null,
   "metadata": {},
   "outputs": [],
   "source": [
    "df_x.info()"
   ]
  },
  {
   "cell_type": "code",
   "execution_count": null,
   "metadata": {},
   "outputs": [],
   "source": [
    "def _create_ts_plot(idx):\n",
    "    df_plot = df[df[const.UID_INITIAL_STATE_COL_NAME] == idx]\n",
    "    fig = make_subplots(rows=2, cols=1, shared_xaxes=True)\n",
    "    # signal 1\n",
    "    for col, name in zip(const.X_COL_NAMES, const.X_COL_NAMES):\n",
    "        fig.add_trace(go.Scatter(x=df_plot.time, y=df_plot[col], name=name,\n",
    "                      mode=\"lines\", opacity=1), row=1, col=1)\n",
    "    for col, name in zip(const.XDOT_COL_NAMES, const.XDOT_COL_NAMES):\n",
    "        fig.add_trace(go.Scatter(x=df_plot.time, y=df_plot[col], name=name,\n",
    "                      mode=\"lines\", opacity=1), row=2, col=1)\n",
    "    fig.show()\n",
    "interact(_create_ts_plot, idx=list(range(const.NUMBER_INITIAL_STATES)))"
   ]
  },
  {
   "cell_type": "code",
   "execution_count": null,
   "metadata": {},
   "outputs": [],
   "source": [
    "df.head()"
   ]
  },
  {
   "cell_type": "code",
   "execution_count": null,
   "metadata": {},
   "outputs": [],
   "source": []
  },
  {
   "cell_type": "code",
   "execution_count": null,
   "metadata": {},
   "outputs": [],
   "source": []
  },
  {
   "cell_type": "code",
   "execution_count": null,
   "metadata": {},
   "outputs": [],
   "source": []
  },
  {
   "cell_type": "code",
   "execution_count": null,
   "metadata": {},
   "outputs": [],
   "source": []
  },
  {
   "cell_type": "code",
   "execution_count": null,
   "metadata": {},
   "outputs": [],
   "source": []
  },
  {
   "cell_type": "code",
   "execution_count": null,
   "metadata": {},
   "outputs": [],
   "source": []
  },
  {
   "cell_type": "code",
   "execution_count": null,
   "metadata": {},
   "outputs": [],
   "source": []
  },
  {
   "cell_type": "code",
   "execution_count": null,
   "metadata": {},
   "outputs": [],
   "source": []
  },
  {
   "cell_type": "code",
   "execution_count": null,
   "metadata": {},
   "outputs": [],
   "source": []
  },
  {
   "cell_type": "markdown",
   "metadata": {},
   "source": [
    "# Now in the x space!"
   ]
  },
  {
   "cell_type": "code",
   "execution_count": null,
   "metadata": {},
   "outputs": [],
   "source": []
  },
  {
   "cell_type": "code",
   "execution_count": null,
   "metadata": {},
   "outputs": [],
   "source": [
    "df_x = pd.read_parquet(const.X_SPACE_DATA_PATH)\n",
    "\n",
    "def plot_pics(sample_index):\n",
    "    df_plot_x = df_x[df_x[const.UID_INITIAL_STATE_COL_NAME] == sample_index].copy().reset_index(drop=True)\n",
    "    sub_indexes = [i for i in range(5)]\n",
    "    img_sequence = [df_plot_x[const.X_COL_NAMES].values[i,:].reshape(\n",
    "        (const.PICTURE_SIZE, const.PICTURE_SIZE)) for i in sub_indexes]\n",
    "    fig = px.imshow(np.array(img_sequence),\n",
    "                    facet_col=0,\n",
    "#                     binary_string=True,\n",
    "                    labels={'facet_col':'sigma'}\n",
    "                   )\n",
    "    for i, index in enumerate(sub_indexes):\n",
    "        fig.layout.annotations[i]['text'] = f'Timestamp {index}'\n",
    "    fig.show()\n",
    "\n",
    "interact(plot_pics, sample_index=range(const.NUMBER_INITIAL_STATES))"
   ]
  },
  {
   "cell_type": "code",
   "execution_count": null,
   "metadata": {},
   "outputs": [],
   "source": [
    "def plot_pics(sample_index):\n",
    "    df_plot_x = df_x[df_x[const.UID_INITIAL_STATE_COL_NAME] == sample_index].copy().reset_index(drop=True)\n",
    "    sub_indexes = [i for i in range(20,30)]\n",
    "    img_sequence = [df_plot_x[const.XDOT_COL_NAMES].values[i,:].reshape(\n",
    "        (const.PICTURE_SIZE, const.PICTURE_SIZE)) for i in sub_indexes]\n",
    "    fig = px.imshow(np.array(img_sequence),\n",
    "                    facet_col=0,\n",
    "#                     binary_string=True,\n",
    "                    labels={'facet_col':'sigma'}\n",
    "                   )\n",
    "    for i, index in enumerate(sub_indexes):\n",
    "        fig.layout.annotations[i]['text'] = f'Timestamp {index}'\n",
    "    fig.show()\n",
    "\n",
    "interact(plot_pics, sample_index=range(const.NUMBER_INITIAL_STATES))"
   ]
  },
  {
   "cell_type": "code",
   "execution_count": null,
   "metadata": {},
   "outputs": [],
   "source": [
    "df_x = pd.read_parquet(const.X_SPACE_DATA_PATH)\n",
    "\n",
    "def plot_pics(sample_index):\n",
    "    df_plot_x = df_x[df_x[const.UID_INITIAL_STATE_COL_NAME] == sample_index].copy().reset_index(drop=True)\n",
    "    sub_indexes = [0, 10, 20, 30, 40]\n",
    "    img_sequence = [df_plot_x[const.X_COL_NAMES].values[i,:].reshape(\n",
    "        (const.PICTURE_SIZE, const.PICTURE_SIZE)) for i in sub_indexes]\n",
    "    fig = px.imshow(np.array(img_sequence),\n",
    "                    facet_col=0,\n",
    "#                     binary_string=True,\n",
    "                    labels={'facet_col':'sigma'}\n",
    "                   )\n",
    "    for i, index in enumerate(sub_indexes):\n",
    "        fig.layout.annotations[i]['text'] = f'Timestamp {index}'\n",
    "    fig.show()\n",
    "\n",
    "interact(plot_pics, sample_index=range(const.NUMBER_INITIAL_STATES))"
   ]
  },
  {
   "cell_type": "markdown",
   "metadata": {},
   "source": [
    "## What about the derivatives in x?"
   ]
  },
  {
   "cell_type": "code",
   "execution_count": null,
   "metadata": {},
   "outputs": [],
   "source": [
    "def plot_pics(sample_index):\n",
    "    df_plot_x = df_x[df_x[const.UID_INITIAL_STATE_COL_NAME] == sample_index].copy().reset_index(drop=True)\n",
    "    sub_indexes = [0, 25, 50, 75, 100]\n",
    "    img_sequence = [df_plot_x[const.XDOT_COL_NAMES].values[i,:].reshape(\n",
    "        (const.PICTURE_SIZE, const.PICTURE_SIZE)) for i in sub_indexes]\n",
    "    fig = px.imshow(np.array(img_sequence),\n",
    "                    facet_col=0,\n",
    "#                     binary_string=True,\n",
    "                    labels={'facet_col':'sigma'}\n",
    "                   )\n",
    "    for i, index in enumerate(sub_indexes):\n",
    "        fig.layout.annotations[i]['text'] = f'Timestamp {index}'\n",
    "    fig.show()\n",
    "\n",
    "interact(plot_pics, sample_index=range(const.NUMBER_INITIAL_STATES))"
   ]
  },
  {
   "cell_type": "code",
   "execution_count": null,
   "metadata": {},
   "outputs": [],
   "source": [
    "x_dot = df_x[const.XDOT_COL_NAMES].values\n",
    "x = df_x[const.X_COL_NAMES].values"
   ]
  },
  {
   "cell_type": "code",
   "execution_count": null,
   "metadata": {},
   "outputs": [],
   "source": [
    "i = 10"
   ]
  },
  {
   "cell_type": "code",
   "execution_count": null,
   "metadata": {},
   "outputs": [],
   "source": [
    "px.imshow(x[i,:].reshape(100, 100))"
   ]
  },
  {
   "cell_type": "code",
   "execution_count": null,
   "metadata": {},
   "outputs": [],
   "source": [
    "px.imshow(x_dot[i,:].reshape(100, 100))"
   ]
  },
  {
   "cell_type": "code",
   "execution_count": null,
   "metadata": {},
   "outputs": [],
   "source": [
    "df_x[df_x[const.UID_INITIAL_STATE_COL_NAME] == 0]"
   ]
  },
  {
   "cell_type": "code",
   "execution_count": null,
   "metadata": {},
   "outputs": [],
   "source": [
    "df_x.info()"
   ]
  },
  {
   "cell_type": "code",
   "execution_count": null,
   "metadata": {},
   "outputs": [],
   "source": [
    "pd.Series([df_x[col].max() for col in const.X_COL_NAMES]).value_counts()"
   ]
  },
  {
   "cell_type": "code",
   "execution_count": null,
   "metadata": {},
   "outputs": [],
   "source": [
    "df_test = df_x[df_x[const.UID_INITIAL_STATE_COL_NAME] == 0]"
   ]
  },
  {
   "cell_type": "code",
   "execution_count": null,
   "metadata": {},
   "outputs": [],
   "source": [
    "df_test[const.X_COL_NAMES].std()[df_test[const.X_COL_NAMES].std()>0.069]"
   ]
  },
  {
   "cell_type": "code",
   "execution_count": null,
   "metadata": {},
   "outputs": [],
   "source": [
    "x = np.array([[1, 2, 3],[4,5,6],[7,8,9]])\n",
    "x"
   ]
  },
  {
   "cell_type": "code",
   "execution_count": null,
   "metadata": {},
   "outputs": [],
   "source": [
    "x.ravel()"
   ]
  },
  {
   "cell_type": "code",
   "execution_count": null,
   "metadata": {},
   "outputs": [],
   "source": [
    "33*100+1"
   ]
  },
  {
   "cell_type": "code",
   "execution_count": null,
   "metadata": {},
   "outputs": [],
   "source": [
    "set([df_x[df_x[const.UID_INITIAL_STATE_COL_NAME] == 0][f'x_{i}'].max() for i in range(1000)])"
   ]
  },
  {
   "cell_type": "code",
   "execution_count": null,
   "metadata": {},
   "outputs": [],
   "source": [
    "def plot_stuff(i=3504):\n",
    "    fig = px.scatter(df_x[df_x[const.UID_INITIAL_STATE_COL_NAME] == 0][f'x_{i}'])\n",
    "#     fig = px.scatter(df_x[f'x_{i}'])\n",
    "\n",
    "    fig.show()\n",
    "interact(plot_stuff, i = [i for i in range(10000)])\n",
    "    "
   ]
  },
  {
   "cell_type": "code",
   "execution_count": null,
   "metadata": {},
   "outputs": [],
   "source": [
    "def plot_stuff(i=3504):\n",
    "    fig = px.scatter(df_x[df_x[const.UID_INITIAL_STATE_COL_NAME] == 0][f'xdot_{i}'])\n",
    "#     fig = px.scatter(df_x[f'x_{i}'])\n",
    "\n",
    "    fig.show()\n",
    "interact(plot_stuff, i = [i for i in range(10000)])"
   ]
  },
  {
   "cell_type": "code",
   "execution_count": null,
   "metadata": {},
   "outputs": [],
   "source": []
  },
  {
   "cell_type": "code",
   "execution_count": null,
   "metadata": {},
   "outputs": [],
   "source": []
  },
  {
   "cell_type": "code",
   "execution_count": null,
   "metadata": {},
   "outputs": [],
   "source": []
  }
 ],
 "metadata": {
  "kernelspec": {
   "display_name": "Python 3 (ipykernel)",
   "language": "python",
   "name": "python3"
  },
  "language_info": {
   "codemirror_mode": {
    "name": "ipython",
    "version": 3
   },
   "file_extension": ".py",
   "mimetype": "text/x-python",
   "name": "python",
   "nbconvert_exporter": "python",
   "pygments_lexer": "ipython3",
   "version": "3.9.5"
  }
 },
 "nbformat": 4,
 "nbformat_minor": 4
}
