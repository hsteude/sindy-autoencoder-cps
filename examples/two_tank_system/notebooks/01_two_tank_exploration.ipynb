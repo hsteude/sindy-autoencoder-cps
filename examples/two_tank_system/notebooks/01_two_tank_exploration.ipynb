{
 "cells": [
  {
   "cell_type": "code",
   "execution_count": null,
   "metadata": {},
   "outputs": [],
   "source": [
    "import os\n",
    "os.chdir('../../..')"
   ]
  },
  {
   "cell_type": "code",
   "execution_count": null,
   "metadata": {},
   "outputs": [],
   "source": [
    "from IPython.core.display import display, HTML\n",
    "display(HTML(\"<style>.container { width:100% !important; }</style>\"))"
   ]
  },
  {
   "cell_type": "code",
   "execution_count": null,
   "metadata": {},
   "outputs": [],
   "source": [
    "import numpy as np\n",
    "from scipy.integrate import odeint\n",
    "from sklearn.linear_model import Lasso\n",
    "import pysindy as ps\n",
    "from plotly.subplots import make_subplots\n",
    "import plotly.graph_objects as go\n",
    "import plotly.express as px\n",
    "from ipywidgets import interact\n",
    "import ipywidgets as widgets"
   ]
  },
  {
   "cell_type": "markdown",
   "metadata": {},
   "source": [
    "## Define three tank dynamic system model"
   ]
  },
  {
   "cell_type": "markdown",
   "metadata": {},
   "source": [
    "I just took a random paper that wrote down the dynamic system equations for the three tank setup. Found [this](http://www.scs-europe.net/dlib/2016/ecms2016acceptedpapers/0347-mct_ECMS_0022.pdf).\n",
    "\n",
    "![](../pics/three_tank_system_picture.png)"
   ]
  },
  {
   "cell_type": "markdown",
   "metadata": {},
   "source": [
    "According to that paper, the system can be modelled like so:\n",
    "$$\n",
    "C\\frac{dh_1(t)}{dt} = Q_1(t) - sign(h_1(t) - h_2(t)) \\sqrt{|h_1(t) - h_2(t)|}\\\\\n",
    "C\\frac{dh_2(t)}{dt} = sign(h_1(t) - h_2(t)) \\sqrt{|h_1(t)- h_2(t)|}\\\\\n",
    "$$\n",
    "Note that this is somewhat simpler than the equations in the paper, since we assume no leakage and tanks of equal sizes and equal valves...\n"
   ]
  },
  {
   "cell_type": "code",
   "execution_count": null,
   "metadata": {},
   "outputs": [],
   "source": [
    "# Constants\n",
    "A = 5\n",
    "g = 9.81\n",
    "C = np.sqrt(2*g)/A\n",
    "q1 = 0\n",
    "q3 = 0\n",
    "C"
   ]
  },
  {
   "cell_type": "code",
   "execution_count": null,
   "metadata": {},
   "outputs": [],
   "source": [
    "def system_dynamics_function(x, t):\n",
    "    x1 = x[0]\n",
    "    x2 = x[1]\n",
    "    dh1_dt =C * q1 - C * np.sign(x1 - x2) * np.sqrt(np.abs(x1 - x2))\n",
    "    dh2_dt = C * np.sign(x1 - x2) * np.sqrt(np.abs(x1 - x2)) \n",
    "    return dh1_dt, dh2_dt"
   ]
  },
  {
   "cell_type": "code",
   "execution_count": null,
   "metadata": {},
   "outputs": [],
   "source": [
    "# define time steps\n",
    "t = np.linspace(0, 10, 101)"
   ]
  },
  {
   "cell_type": "code",
   "execution_count": null,
   "metadata": {},
   "outputs": [],
   "source": [
    "# initial condition\n",
    "x0 = (1, 100)"
   ]
  },
  {
   "cell_type": "code",
   "execution_count": null,
   "metadata": {},
   "outputs": [],
   "source": [
    "# solve ode\n",
    "y = odeint(system_dynamics_function, x0, t)/100\n",
    "h1 = y[:, 0]\n",
    "h2 = y[:, 1]"
   ]
  },
  {
   "cell_type": "code",
   "execution_count": null,
   "metadata": {},
   "outputs": [],
   "source": [
    "fig = make_subplots(rows=1, cols=1, shared_xaxes=True)\n",
    "# signal 1\n",
    "for sig, name in zip([h1, h2], ['h_1(t)', 'h_2(t)']):\n",
    "    fig.add_trace(go.Scatter(x=t, y=sig, name=name,\n",
    "                  mode=\"lines\", opacity=1),\n",
    "        row=1, col=1)\n",
    "fig.update_xaxes(title_text='time')\n",
    "fig.update_yaxes(title_text='x')\n",
    "fig.update_layout(title_text=\"Fill levels over time\", showlegend=True)\n",
    "fig.show()"
   ]
  },
  {
   "cell_type": "code",
   "execution_count": null,
   "metadata": {},
   "outputs": [],
   "source": [
    "library_functions = [\n",
    "    lambda x : np.exp(x),\n",
    "    lambda x : 1./x,\n",
    "    lambda x : x,\n",
    "    lambda x,y : np.sin(x+y),\n",
    "    lambda x,y : np.sign(x-y)*np.sqrt(np.abs(x-y)),\n",
    "    lambda x: x**2,\n",
    "    lambda x: np.sqrt(x),\n",
    "    lambda x,y: x*y\n",
    "]\n",
    "library_function_names = [\n",
    "    lambda x : 'exp(' + x + ')',\n",
    "    lambda x : '1/' + x,\n",
    "    lambda x : x,\n",
    "    lambda x,y : 'sin(' + x + ',' + y + ')',\n",
    "    lambda x,y : 'sign('+x+'-'+y+')*sqrt('+x+' - '+y+')',\n",
    "    lambda x: '{'+x+'}^2',\n",
    "    lambda x: f'sqrt({x})',\n",
    "    lambda x,y: f'{x}*{y}'\n",
    "    \n",
    "]\n",
    "feature_library = ps.CustomLibrary(\n",
    "    library_functions=library_functions, function_names=library_function_names\n",
    ")"
   ]
  },
  {
   "cell_type": "code",
   "execution_count": null,
   "metadata": {},
   "outputs": [],
   "source": [
    "2.0"
   ]
  },
  {
   "cell_type": "code",
   "execution_count": null,
   "metadata": {},
   "outputs": [],
   "source": [
    "ps.feature_library.polynomial_library.PolynomialLibrary(degree=3).fit(y).get_feature_names()"
   ]
  },
  {
   "cell_type": "code",
   "execution_count": null,
   "metadata": {},
   "outputs": [],
   "source": [
    "dt = .1\n",
    "differentiation_method = ps.FiniteDifference(order=1)\n",
    "optimizer = ps.STLSQ(threshold=0.04)\n",
    "model = ps.SINDy(\n",
    "    differentiation_method=differentiation_method,\n",
    "    feature_library=feature_library,\n",
    "    optimizer=optimizer,\n",
    "    feature_names=[\"h1\", \"h2\", \"h3\"]\n",
    ")\n",
    "model.fit(y, t=dt)\n",
    "model.print()"
   ]
  },
  {
   "cell_type": "code",
   "execution_count": null,
   "metadata": {},
   "outputs": [],
   "source": [
    "sim = model.simulate((.1, 1), t=t)"
   ]
  },
  {
   "cell_type": "code",
   "execution_count": null,
   "metadata": {},
   "outputs": [],
   "source": [
    "fig = make_subplots(rows=1, cols=1, shared_xaxes=True)\n",
    "# original samples\n",
    "for sig, name in zip([h1, h2], ['h_1(t)', 'h_2(t)']):\n",
    "    fig.add_trace(go.Scatter(x=t, y=sig, name=name,\n",
    "                  mode=\"lines\", opacity=1),\n",
    "        row=1, col=1)\n",
    "# model output\n",
    "for sig, name in zip([sim[:, 0], sim[:, 1]], ['hm_1(t)', 'hm_2(t)']):\n",
    "    fig.add_trace(go.Scatter(x=t, y=sig, name=name,\n",
    "                  mode=\"lines\", opacity=1),\n",
    "        row=1, col=1)\n",
    "fig.update_xaxes(title_text='time')\n",
    "fig.update_yaxes(title_text='x')\n",
    "fig.update_layout(title_text=\"...\", showlegend=True)\n",
    "fig.show()"
   ]
  },
  {
   "cell_type": "code",
   "execution_count": null,
   "metadata": {},
   "outputs": [],
   "source": []
  }
 ],
 "metadata": {
  "kernelspec": {
   "display_name": "Python 3 (ipykernel)",
   "language": "python",
   "name": "python3"
  },
  "language_info": {
   "codemirror_mode": {
    "name": "ipython",
    "version": 3
   },
   "file_extension": ".py",
   "mimetype": "text/x-python",
   "name": "python",
   "nbconvert_exporter": "python",
   "pygments_lexer": "ipython3",
   "version": "3.9.5"
  }
 },
 "nbformat": 4,
 "nbformat_minor": 4
}
