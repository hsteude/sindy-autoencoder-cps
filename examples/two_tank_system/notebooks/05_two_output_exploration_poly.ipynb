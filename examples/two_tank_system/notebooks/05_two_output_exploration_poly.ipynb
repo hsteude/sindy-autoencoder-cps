{
 "cells": [
  {
   "cell_type": "code",
   "execution_count": null,
   "id": "ad3ab4f0",
   "metadata": {},
   "outputs": [],
   "source": [
    "import os\n",
    "os.chdir('../../..')"
   ]
  },
  {
   "cell_type": "code",
   "execution_count": null,
   "id": "dcc8dece",
   "metadata": {},
   "outputs": [],
   "source": [
    "from IPython.core.display import display, HTML\n",
    "display(HTML(\"<style>.container { width:100% !important; }</style>\"))"
   ]
  },
  {
   "cell_type": "code",
   "execution_count": null,
   "id": "68e9f1bc",
   "metadata": {},
   "outputs": [],
   "source": [
    "ll examples/"
   ]
  },
  {
   "cell_type": "code",
   "execution_count": null,
   "id": "f2fb9673",
   "metadata": {},
   "outputs": [],
   "source": []
  },
  {
   "cell_type": "code",
   "execution_count": null,
   "id": "5f7aeac3",
   "metadata": {},
   "outputs": [],
   "source": [
    "from examples.two_tank_system.dataset import TwoTankImgDataSet\n",
    "from torch.utils.data import DataLoader"
   ]
  },
  {
   "cell_type": "code",
   "execution_count": null,
   "id": "5681019c",
   "metadata": {},
   "outputs": [],
   "source": [
    "dataset = TwoTankImgDataSet(debug=True)"
   ]
  },
  {
   "cell_type": "code",
   "execution_count": null,
   "id": "77251255",
   "metadata": {},
   "outputs": [],
   "source": [
    "batch_size = 1000\n",
    "dataloader = DataLoader(dataset, batch_size=batch_size, num_workers=24)"
   ]
  },
  {
   "cell_type": "code",
   "execution_count": null,
   "id": "8faa9c67",
   "metadata": {},
   "outputs": [],
   "source": [
    "from sindy_autoencoder_cps.lightning_module import SINDyAutoencoder\n",
    "import yaml\n",
    "# MODEL_VERSION = 'freq_and_phase'\n",
    "MODEL_VERSION = 'version_47'\n",
    "\n",
    "# Cheating run: verion 29\n",
    "# no cheating but not ideal: 32\n",
    "\n",
    "hparams_path = f'./lightning_logs/{MODEL_VERSION}/hparams.yaml'\n",
    "with open(hparams_path, 'r') as stream:\n",
    "        hparam_dct = yaml.safe_load(stream)\n",
    "ckpt_file_name = os.listdir(f'./lightning_logs/{MODEL_VERSION}/checkpoints/')[-1]\n",
    "ckpt_file_path = f'./lightning_logs/{MODEL_VERSION}/checkpoints/{ckpt_file_name}'\n",
    "model = SINDyAutoencoder.load_from_checkpoint(ckpt_file_path)\n",
    "model"
   ]
  },
  {
   "cell_type": "code",
   "execution_count": null,
   "id": "3813ff03",
   "metadata": {},
   "outputs": [],
   "source": [
    "batches = iter(dataloader)"
   ]
  },
  {
   "cell_type": "code",
   "execution_count": null,
   "id": "ec101cd9",
   "metadata": {},
   "outputs": [],
   "source": [
    "x, xdot, z_real, z_dot_real, idxs = batches.next()\n",
    "print(f'shape x: {x.shape},   shape xdot: {xdot.shape}')"
   ]
  },
  {
   "cell_type": "code",
   "execution_count": null,
   "id": "c6bb11c6",
   "metadata": {},
   "outputs": [],
   "source": [
    "import numpy as np\n",
    "x_2_norm = np.array([v[0]**2+v[1]**2+v[2]**2 for v in x])\n",
    "x_2_norm_sum = x_2_norm.sum()\n",
    "x_2_norm_sum"
   ]
  },
  {
   "cell_type": "code",
   "execution_count": null,
   "id": "2043ddd3",
   "metadata": {},
   "outputs": [],
   "source": [
    "xdot_2_norm = np.array([v[0]**2+v[1]**2+v[2]**2 for v in xdot])\n",
    "xdot_2_norm_sum = xdot_2_norm.sum()\n",
    "xdot_2_norm_sum"
   ]
  },
  {
   "cell_type": "code",
   "execution_count": null,
   "id": "f265a03f",
   "metadata": {},
   "outputs": [],
   "source": [
    "x_2_norm_sum / xdot_2_norm_sum"
   ]
  },
  {
   "cell_type": "code",
   "execution_count": null,
   "id": "441a502c",
   "metadata": {},
   "outputs": [],
   "source": [
    "1e3"
   ]
  },
  {
   "cell_type": "code",
   "execution_count": null,
   "id": "effa7076",
   "metadata": {},
   "outputs": [],
   "source": [
    "x_hat, xdot_hat, z, zdot, zdot_hat = model.cuda()(x.cuda(), xdot.cuda())"
   ]
  },
  {
   "cell_type": "code",
   "execution_count": null,
   "id": "4a0e22cd",
   "metadata": {},
   "outputs": [],
   "source": []
  },
  {
   "cell_type": "code",
   "execution_count": null,
   "id": "b91e5fdb",
   "metadata": {},
   "outputs": [],
   "source": [
    "from plotly.subplots import make_subplots\n",
    "import plotly.graph_objects as go\n",
    "import numpy as np\n",
    "\n",
    "\n",
    "fig = make_subplots(rows=2, cols=6, shared_xaxes=False)\n",
    "for i in range(6):\n",
    "    fig.add_trace(go.Scatter(x=x[:, i].cpu().detach().numpy(),\n",
    "                       y=x_hat[:, i].cpu().detach().numpy(),\n",
    "                      mode='markers', name=f'x_hat{i} over x{i}',\n",
    "#                              marker_color='blue',\n",
    "                             opacity=.7), row=1, col=1+i)\n",
    "    fig.add_trace(go.Scatter(x=xdot[:, i].cpu().detach().numpy(),\n",
    "                       y=xdot_hat[:, i].cpu().detach().numpy(),\n",
    "                      mode='markers', name=f'xdot_hat{i} over xdot{i}',\n",
    "#                              marker_color='blue',\n",
    "                             opacity=.7), row=2, col=1+i)\n",
    "fig.show()\n"
   ]
  },
  {
   "cell_type": "code",
   "execution_count": null,
   "id": "0ddb0970",
   "metadata": {},
   "outputs": [],
   "source": [
    "\n",
    "fig = make_subplots(rows=3, cols=2, shared_xaxes=False)\n",
    "for j in range(2):\n",
    "    fig.add_trace(go.Scatter(x=zdot[:, j].cpu().detach().numpy(),\n",
    "                       y=zdot_hat[:, j].cpu().detach().numpy(),\n",
    "                      mode='markers', name=f'zdot_hat{j} over zdot{j}',\n",
    "#                              marker_color='blue',\n",
    "                             opacity=.7), row=1, col=1+j)\n",
    "    fig.add_trace(go.Scatter(x=z[:, j].cpu().detach().numpy(),\n",
    "                       y=z_real[:, j].cpu().detach().numpy(),\n",
    "                      mode='markers', name=f'z{j} over zreal{j}',\n",
    "#                              marker_color='blue',\n",
    "                             opacity=.7), row=2, col=1+j)\n",
    "    fig.add_trace(go.Scatter(x=zdot[:, j].cpu().detach().numpy(),\n",
    "                       y=z_dot_real[:, j].cpu().detach().numpy(),\n",
    "                      mode='markers', name=f'zdot{j} over zdot_real{j}',\n",
    "#                              marker_color='blue',\n",
    "                             opacity=.7), row=3, col=1+j)\n",
    "fig.show()\n"
   ]
  },
  {
   "cell_type": "code",
   "execution_count": null,
   "id": "45db19e9",
   "metadata": {},
   "outputs": [],
   "source": [
    "import pandas as pd\n",
    "XI = model.XI.cpu().detach().numpy()\n",
    "XI.max()\n",
    "df_XI = pd.DataFrame(XI, columns=['z0_dot_hat', 'z1_dot_hat'])\n",
    "df_XI.index=model.SINDyLibrary.feature_names"
   ]
  },
  {
   "cell_type": "code",
   "execution_count": null,
   "id": "72b85d60",
   "metadata": {},
   "outputs": [],
   "source": [
    "import plotly.express as px\n",
    "print(model.SINDyLibrary.feature_names)\n",
    "px.imshow(df_XI.abs())"
   ]
  },
  {
   "cell_type": "code",
   "execution_count": null,
   "id": "0004a339",
   "metadata": {},
   "outputs": [],
   "source": [
    "from plotly.subplots import make_subplots\n",
    "import plotly.graph_objects as go\n",
    "import numpy as np\n",
    "\n",
    "fig = make_subplots(rows=2, cols=3, shared_xaxes=True)\n",
    "\n",
    "for i in range(2):\n",
    "    fig.add_trace(go.Scatter(x=np.array(range(z.shape[0])),\n",
    "                       y=z[:, i].cpu().detach().numpy(),\n",
    "                      mode='markers', name=f'z{i}',\n",
    "                             marker_color='blue', opacity=.5), row=1, col=1+i,\n",
    "                    )\n",
    "    fig.add_trace(go.Scatter(x=np.array(range(z.shape[0])),\n",
    "                       y=z_real[:, i].cpu().detach().numpy(),\n",
    "                      mode='markers', name=f'zreal{i}',\n",
    "                             marker_color='green', opacity=.5), row=1, col=1+i,\n",
    "                    )\n",
    "    fig.add_trace(go.Scatter(x=np.array(range(z.shape[0])),\n",
    "                       y=zdot_hat[:, i].cpu().detach().numpy(),\n",
    "                      mode='markers', name=f'zdot_hat{i}',\n",
    "                            marker_color='blue', opacity=.4), row=2, col=1+i)\n",
    "    fig.add_trace(go.Scatter(x=np.array(range(z.shape[0])),\n",
    "                       y=zdot[:, i].cpu().detach().numpy(),\n",
    "                      mode='markers', name=f'zdot{i}',\n",
    "                             marker_color='green', opacity=.5), row=2, col=1+i)\n",
    "    fig.add_trace(go.Scatter(x=np.array(range(z.shape[0])),\n",
    "                       y=z_dot_real[:, i].cpu().detach().numpy(),\n",
    "                      mode='markers', name=f'zdot_real{i}',\n",
    "                             marker_color='purple', opacity=.5), row=2, col=1+i)\n",
    "\n",
    "\n",
    "\n",
    "fig.update_layout(height=600, width=1200, title_text=\"Side By Side Subplots\")\n",
    "fig.show()"
   ]
  },
  {
   "cell_type": "code",
   "execution_count": null,
   "id": "b0bba78c",
   "metadata": {},
   "outputs": [],
   "source": [
    "from plotly.subplots import make_subplots\n",
    "import plotly.graph_objects as go\n",
    "import numpy as np\n",
    "\n",
    "fig = make_subplots(rows=2, cols=4, shared_xaxes=True)\n",
    "\n",
    "\n",
    "for i in range(4):\n",
    "    fig.add_trace(go.Scatter(x=np.array(range(z.shape[0])),\n",
    "                       y=x[:, i].cpu().detach().numpy(),\n",
    "                      mode='markers', name=f'x{i}',\n",
    "                             marker_color='purple', opacity=.5), row=1, col=1+i)\n",
    "for i in range(4):\n",
    "    fig.add_trace(go.Scatter(x=np.array(range(z.shape[0])),\n",
    "                       y=xdot[:, i].cpu().detach().numpy(),\n",
    "                      mode='markers', name=f'xdot{i}',\n",
    "                             marker_color='red', opacity=.5), row=2, col=1+i)\n",
    "for i in range(4):\n",
    "    fig.add_trace(go.Scatter(x=np.array(range(z.shape[0])),\n",
    "                       y=xdot_hat[:, i].cpu().detach().numpy(),\n",
    "                      mode='markers', name=f'xdot_hat{i}',\n",
    "                             marker_color='yellow', opacity=.5), row=2, col=1+i)\n",
    "\n",
    "\n",
    "\n",
    "fig.update_layout(height=600, width=1200, title_text=\"Side By Side Subplots\")\n",
    "fig.show()"
   ]
  },
  {
   "cell_type": "code",
   "execution_count": null,
   "id": "10a90265",
   "metadata": {},
   "outputs": [],
   "source": [
    "import examples.two_tank_system.constants as const\n",
    "# z_real = dataset.df.iloc[idxs][const.Z_COL_NAMES]\n",
    "fig = make_subplots(rows=3, cols=3, shared_xaxes=True)\n",
    "\n",
    "for i in range(2):\n",
    "    for j in range(2):\n",
    "        fig.add_trace(go.Scatter(y=z.detach().cpu().numpy()[:, i],\n",
    "                           x=z_real.detach().cpu().numpy()[:, j],\n",
    "                          mode='markers', name=f'z{i} over z_real{j}'), row=1+j, col=1+i)\n",
    "\n",
    "\n",
    "fig.update_layout(height=600, width=1200, title_text=\"Real hidden state vs latent activations\")\n",
    "fig.show()"
   ]
  },
  {
   "cell_type": "code",
   "execution_count": null,
   "id": "aa7e9251",
   "metadata": {},
   "outputs": [],
   "source": [
    "zdot_real = dataset.df.iloc[idxs][const.Z_DOT_COL_NAMES]\n",
    "fig = make_subplots(rows=3, cols=3, shared_xaxes=True)\n",
    "\n",
    "for i in range(2):\n",
    "    for j in range(2):\n",
    "        fig.add_trace(go.Scatter(y=zdot.detach().cpu().numpy()[:, i],\n",
    "                           x=zdot_real.values[:, j],\n",
    "                          mode='markers', name=f'zdot{i} over zdot_real{j}'), row=1+j, col=1+i)\n",
    "\n",
    "\n",
    "fig.update_layout(height=600, width=1200, title_text=\"Real hidden states derivatives vs predicted derivatives\")\n",
    "fig.show()"
   ]
  },
  {
   "cell_type": "code",
   "execution_count": null,
   "id": "23145d31",
   "metadata": {},
   "outputs": [],
   "source": []
  },
  {
   "cell_type": "markdown",
   "id": "355aaabf",
   "metadata": {},
   "source": [
    "## prediction possible?"
   ]
  },
  {
   "cell_type": "code",
   "execution_count": null,
   "id": "abc8bd7a",
   "metadata": {},
   "outputs": [],
   "source": [
    "# take sample from observation space\n",
    "x_sample = x[0,:]\n",
    "x_sample"
   ]
  },
  {
   "cell_type": "code",
   "execution_count": null,
   "id": "b5e2a1ef",
   "metadata": {},
   "outputs": [],
   "source": [
    "# get z coordinates\n",
    "z_sample  = model.phi_x(x_sample.cuda())\n",
    "z_sample"
   ]
  },
  {
   "cell_type": "code",
   "execution_count": null,
   "id": "da948a7e",
   "metadata": {},
   "outputs": [],
   "source": [
    "# get model\n",
    "thres = 0.005\n",
    "XI = model.XI.detach().cpu().numpy()\n",
    "indices_var = np.where(np.abs(XI)>thres)[1]\n",
    "indices_expr = np.where(np.abs(XI)>thres)[0]\n",
    "indices = list(zip(indices_expr, indices_var))\n",
    "values = XI[np.abs(XI) > thres]\n",
    "feature_names = model.SINDyLibrary.feature_names\n",
    "z0_dot_expr = '+'.join([f'({XI[i]}*{feature_names[i[0]]})' for i in indices if i[1] == 0])\n",
    "z1_dot_expr = '+'.join([f'({XI[i]}*{feature_names[i[0]]})' for i in indices if i[1] == 1])\n",
    "z2_dot_expr = '+'.join([f'({XI[i]}*{feature_names[i[0]]})' for i in indices if i[1] == 2])\n",
    "z0_dot_expr = 'z0_dot = '+z0_dot_expr\n",
    "z1_dot_expr = 'z1_dot = '+z1_dot_expr\n",
    "z2_dot_expr = 'z2_dot = '+z2_dot_expr\n",
    "print(z0_dot_expr)\n",
    "print(z1_dot_expr)\n",
    "print(z2_dot_expr)"
   ]
  },
  {
   "cell_type": "code",
   "execution_count": null,
   "id": "d6d50c65",
   "metadata": {},
   "outputs": [],
   "source": [
    "# build ode model (manual!!!)\n",
    "def ode_model(z, t):\n",
    "    z0 = z[0]\n",
    "    z1 = z[1]\n",
    "    z0_dot =  0\n",
    "    z1_dot =  (-0.006624102592468262*z0)+(0.08263646811246872*np.cos(z1))+(-0.006367685738950968*z0*z0*z0)+(-0.0212117787450552*z1*z1*z1)\n",
    "    return z0_dot, z1_dot"
   ]
  },
  {
   "cell_type": "code",
   "execution_count": null,
   "id": "64f73003",
   "metadata": {},
   "outputs": [],
   "source": [
    "from scipy.integrate import odeint\n",
    "import numpy as np\n",
    "t = np.linspace(0, 20, 50)\n",
    "z_init = z_sample\n",
    "z_pred = odeint(ode_model, z_sample.detach().cpu().numpy(),\n",
    "                t).astype(np.float32)"
   ]
  },
  {
   "cell_type": "code",
   "execution_count": null,
   "id": "dc86591e",
   "metadata": {},
   "outputs": [],
   "source": [
    "import torch\n",
    "x_pred = model.psi_z(torch.tensor(z_pred).cuda()).detach().cpu().numpy()\n",
    "x_pred.shape"
   ]
  },
  {
   "cell_type": "code",
   "execution_count": null,
   "id": "420486ec",
   "metadata": {},
   "outputs": [],
   "source": [
    "const.X_COL_NAMES"
   ]
  },
  {
   "cell_type": "code",
   "execution_count": null,
   "id": "4131d90a",
   "metadata": {},
   "outputs": [],
   "source": [
    "fig = make_subplots(rows=1, cols=1, shared_xaxes=True)\n",
    "# signal 1\n",
    "for i in range(5):\n",
    "    fig.add_trace(go.Scatter(x=list(range(50)), y=x_pred[:, i+1],\n",
    "                  mode=\"lines\", opacity=1, name=f'pred{i}'), row=1, col=1)\n",
    "    fig.add_trace(go.Scatter(x=list(range(50)), y=x[:, i+1],\n",
    "                  mode=\"lines\", opacity=1, name=f'true{i}'), row=1, col=1)\n",
    "fig.show()"
   ]
  },
  {
   "cell_type": "code",
   "execution_count": null,
   "id": "580a9f4d",
   "metadata": {},
   "outputs": [],
   "source": [
    "fig = make_subplots(rows=1, cols=1, shared_xaxes=True)\n",
    "# signal 1\n",
    "for i in range(3):\n",
    "    fig.add_trace(go.Scatter(x=list(range(50)), y=x[:, i+1],\n",
    "                  mode=\"lines\", opacity=1), row=1, col=1)\n",
    "fig.show()"
   ]
  },
  {
   "cell_type": "code",
   "execution_count": null,
   "id": "e1f59242",
   "metadata": {},
   "outputs": [],
   "source": []
  }
 ],
 "metadata": {
  "kernelspec": {
   "display_name": "Python 3 (ipykernel)",
   "language": "python",
   "name": "python3"
  },
  "language_info": {
   "codemirror_mode": {
    "name": "ipython",
    "version": 3
   },
   "file_extension": ".py",
   "mimetype": "text/x-python",
   "name": "python",
   "nbconvert_exporter": "python",
   "pygments_lexer": "ipython3",
   "version": "3.9.5"
  }
 },
 "nbformat": 4,
 "nbformat_minor": 5
}
