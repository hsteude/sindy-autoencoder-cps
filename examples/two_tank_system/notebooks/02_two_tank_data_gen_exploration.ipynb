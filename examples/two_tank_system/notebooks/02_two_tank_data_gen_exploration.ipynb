{
 "cells": [
  {
   "cell_type": "code",
   "execution_count": null,
   "metadata": {},
   "outputs": [],
   "source": [
    "import os\n",
    "os.chdir('../../..')"
   ]
  },
  {
   "cell_type": "code",
   "execution_count": null,
   "metadata": {},
   "outputs": [],
   "source": [
    "from IPython.core.display import display, HTML\n",
    "display(HTML(\"<style>.container { width:100% !important; }</style>\"))"
   ]
  },
  {
   "cell_type": "code",
   "execution_count": null,
   "metadata": {},
   "outputs": [],
   "source": [
    "from examples.two_tank_system.data_gen import TwoTankDataGenerator\n",
    "import pandas as pd\n",
    "import examples.two_tank_system.constants as const\n",
    "import pysindy as ps\n",
    "import numpy as np\n",
    "import plotly.express as px\n",
    "from ipywidgets import interact\n",
    "import ipywidgets as widgets\n",
    "from plotly.subplots import make_subplots\n",
    "import plotly.graph_objects as go\n",
    "%load_ext autoreload\n",
    "%autoreload 2"
   ]
  },
  {
   "cell_type": "code",
   "execution_count": null,
   "metadata": {},
   "outputs": [],
   "source": [
    "df = pd.read_parquet(const.X_SPACE_DATA_PATH)"
   ]
  },
  {
   "cell_type": "code",
   "execution_count": null,
   "metadata": {},
   "outputs": [],
   "source": [
    "df.head()"
   ]
  },
  {
   "cell_type": "code",
   "execution_count": null,
   "metadata": {},
   "outputs": [],
   "source": [
    "df.describe()"
   ]
  },
  {
   "cell_type": "code",
   "execution_count": null,
   "metadata": {},
   "outputs": [],
   "source": []
  },
  {
   "cell_type": "code",
   "execution_count": null,
   "metadata": {},
   "outputs": [],
   "source": [
    "def _create_ts_plot(idx):\n",
    "    df_plot = df[df[const.UID_INITIAL_STATE_COL_NAME] == idx]\n",
    "    fig = make_subplots(rows=2, cols=1, shared_xaxes=True)\n",
    "    # signal 1\n",
    "    for col, name in zip(const.Z_COL_NAMES, ['h1(t)', 'h2(t)', 'h3(t)']):\n",
    "        fig.add_trace(go.Scatter(x=df_plot.time, y=df_plot[col], name=name,\n",
    "                      mode=\"lines\", opacity=1),\n",
    "            row=1, col=1)\n",
    "\n",
    "    for col, name in zip(const.Z_DOT_COL_NAMES, ['h1_dot(t)', 'h2_dot(t)', 'h3_dot(t)']):\n",
    "        fig.add_trace(go.Scatter(x=df_plot.time, y=df_plot[col], name=name,\n",
    "                      mode=\"lines\", opacity=1),\n",
    "            row=2, col=1)\n",
    "\n",
    "    fig.update_xaxes(title_text='time')\n",
    "    fig.update_yaxes(title_text='x', row=1)\n",
    "    fig.update_yaxes(title_text='x_dot', row=2)\n",
    "    fig.update_layout(title_text=\"Latent neuron activations vs. hidden states\", showlegend=True)\n",
    "    fig.show()\n",
    "\n",
    "interact(_create_ts_plot, idx=list(range(const.NUMBER_INITIAL_STATES)))"
   ]
  },
  {
   "cell_type": "markdown",
   "metadata": {},
   "source": [
    "# Lets try the pysindy exercise in the z-space!"
   ]
  },
  {
   "cell_type": "code",
   "execution_count": null,
   "metadata": {},
   "outputs": [],
   "source": [
    "library_functions = [\n",
    "#     lambda x : np.exp(x),\n",
    "    lambda x : 1./x,\n",
    "    lambda x : x,\n",
    "    lambda x : np.sin(x),\n",
    "    lambda x : np.cos(x),\n",
    "    lambda x,y : np.sin(x+y),\n",
    "    lambda x,y : np.cos(x+y),\n",
    "    lambda x,y : np.sign(x-y)*np.sqrt(np.abs(x-y)),\n",
    "    lambda x: x**2,\n",
    "#     lambda x: np.sqrt(x),\n",
    "    lambda x,y: x*y,\n",
    "    lambda x,y: x**2*y,\n",
    "    lambda x,y: x*y**2\n",
    "]\n",
    "library_function_names = [\n",
    "#     lambda x : 'exp(' + x + ')',\n",
    "    lambda x : '1/' + x,\n",
    "    lambda x : x,\n",
    "    lambda x : f'sin({x})',\n",
    "    lambda x : f'cos({x})',\n",
    "    lambda x,y : 'sin(' + x + '+' + y + ')',\n",
    "    lambda x,y : f'cos({x}+{y})',\n",
    "    lambda x,y : 'sign('+x+'-'+y+')*sqrt('+x+' - '+y+')',\n",
    "    lambda x: x+'^2',\n",
    "#     lambda x: f'sqrt({x})',\n",
    "    lambda x,y: f'{x}*{y}',\n",
    "    lambda x,y: f'{x}^2*{y}',\n",
    "    lambda x,y: f'{x}*{y}^2'\n",
    "]\n",
    "feature_library = ps.CustomLibrary(\n",
    "    library_functions=library_functions, function_names=library_function_names\n",
    ")"
   ]
  },
  {
   "cell_type": "code",
   "execution_count": null,
   "metadata": {},
   "outputs": [],
   "source": [
    "const.Z_COL_NAMES"
   ]
  },
  {
   "cell_type": "code",
   "execution_count": null,
   "metadata": {},
   "outputs": [],
   "source": [
    "const.Z_DOT_COL_NAMES"
   ]
  },
  {
   "cell_type": "code",
   "execution_count": null,
   "metadata": {},
   "outputs": [],
   "source": [
    "optimizer = ps.STLSQ(threshold=.01)\n",
    "model = ps.SINDy(\n",
    "    feature_library=feature_library,\n",
    "    optimizer=optimizer,\n",
    "    feature_names=[\"h1\", \"h2\"],\n",
    ")\n",
    "model.fit(df[const.Z_COL_NAMES].values, x_dot=df[const.Z_DOT_COL_NAMES].values, t=0.01)\n",
    "model.print()"
   ]
  },
  {
   "cell_type": "markdown",
   "metadata": {},
   "source": [
    "## NICE!"
   ]
  },
  {
   "cell_type": "code",
   "execution_count": null,
   "metadata": {},
   "outputs": [],
   "source": [
    "feature_library.get_feature_names()"
   ]
  },
  {
   "cell_type": "code",
   "execution_count": null,
   "metadata": {},
   "outputs": [],
   "source": [
    "len(const.X_COL_NAMES)"
   ]
  },
  {
   "cell_type": "code",
   "execution_count": null,
   "metadata": {},
   "outputs": [],
   "source": [
    "df_x = pd.read_parquet(const.X_SPACE_DATA_PATH)"
   ]
  },
  {
   "cell_type": "code",
   "execution_count": null,
   "metadata": {},
   "outputs": [],
   "source": [
    "df_x.info()"
   ]
  },
  {
   "cell_type": "code",
   "execution_count": null,
   "metadata": {},
   "outputs": [],
   "source": [
    "def _create_ts_plot(idx):\n",
    "    df_plot = df[df[const.UID_INITIAL_STATE_COL_NAME] == idx]\n",
    "    fig = make_subplots(rows=2, cols=1, shared_xaxes=True)\n",
    "    # signal 1\n",
    "    for col, name in zip(const.X_COL_NAMES, const.X_COL_NAMES):\n",
    "        fig.add_trace(go.Scatter(x=df_plot.time, y=df_plot[col], name=name,\n",
    "                      mode=\"lines\", opacity=1), row=1, col=1)\n",
    "    for col, name in zip(const.XDOT_COL_NAMES, const.XDOT_COL_NAMES):\n",
    "        fig.add_trace(go.Scatter(x=df_plot.time, y=df_plot[col], name=name,\n",
    "                      mode=\"lines\", opacity=1), row=2, col=1)\n",
    "    fig.show()\n",
    "interact(_create_ts_plot, idx=list(range(const.NUMBER_INITIAL_STATES)))"
   ]
  }
 ],
 "metadata": {
  "kernelspec": {
   "display_name": "Python 3 (ipykernel)",
   "language": "python",
   "name": "python3"
  },
  "language_info": {
   "codemirror_mode": {
    "name": "ipython",
    "version": 3
   },
   "file_extension": ".py",
   "mimetype": "text/x-python",
   "name": "python",
   "nbconvert_exporter": "python",
   "pygments_lexer": "ipython3",
   "version": "3.9.5"
  }
 },
 "nbformat": 4,
 "nbformat_minor": 4
}
