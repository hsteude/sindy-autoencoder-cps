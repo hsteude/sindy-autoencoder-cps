{
 "cells": [
  {
   "cell_type": "code",
   "execution_count": null,
   "id": "ad3ab4f0",
   "metadata": {},
   "outputs": [],
   "source": [
    "import os\n",
    "os.chdir('../../..')"
   ]
  },
  {
   "cell_type": "code",
   "execution_count": null,
   "id": "dcc8dece",
   "metadata": {},
   "outputs": [],
   "source": [
    "from IPython.core.display import display, HTML\n",
    "display(HTML(\"<style>.container { width:100% !important; }</style>\"))"
   ]
  },
  {
   "cell_type": "code",
   "execution_count": null,
   "id": "5f7aeac3",
   "metadata": {},
   "outputs": [],
   "source": [
    "from examples.two_tank_system.dataset import TwoTankImgDataSet\n",
    "from torch.utils.data import DataLoader"
   ]
  },
  {
   "cell_type": "code",
   "execution_count": null,
   "id": "5681019c",
   "metadata": {},
   "outputs": [],
   "source": [
    "dataset = TwoTankImgDataSet(debug=True)"
   ]
  },
  {
   "cell_type": "code",
   "execution_count": null,
   "id": "77251255",
   "metadata": {},
   "outputs": [],
   "source": [
    "batch_size = 1000\n",
    "dataloader = DataLoader(dataset, batch_size=batch_size, num_workers=24)"
   ]
  },
  {
   "cell_type": "code",
   "execution_count": null,
   "id": "8faa9c67",
   "metadata": {},
   "outputs": [],
   "source": [
    "from sindy_autoencoder_cps.lightning_module import SINDyAutoencoder\n",
    "import yaml\n",
    "# MODEL_VERSION = 'freq_and_phase'\n",
    "MODEL_VERSION = 'version_40'\n",
    "\n",
    "hparams_path = f'./lightning_logs/{MODEL_VERSION}/hparams.yaml'\n",
    "with open(hparams_path, 'r') as stream:\n",
    "        hparam_dct = yaml.safe_load(stream)\n",
    "ckpt_file_name = os.listdir(f'./lightning_logs/{MODEL_VERSION}/checkpoints/')[-1]\n",
    "ckpt_file_path = f'./lightning_logs/{MODEL_VERSION}/checkpoints/{ckpt_file_name}'\n",
    "model = SINDyAutoencoder.load_from_checkpoint(ckpt_file_path)\n",
    "model"
   ]
  },
  {
   "cell_type": "code",
   "execution_count": null,
   "id": "59b24d4c",
   "metadata": {},
   "outputs": [],
   "source": [
    "model.SINDyLibrary.device"
   ]
  },
  {
   "cell_type": "code",
   "execution_count": null,
   "id": "3813ff03",
   "metadata": {},
   "outputs": [],
   "source": [
    "batches = iter(dataloader)"
   ]
  },
  {
   "cell_type": "code",
   "execution_count": null,
   "id": "757999a2",
   "metadata": {},
   "outputs": [],
   "source": [
    "batches.next()"
   ]
  },
  {
   "cell_type": "code",
   "execution_count": null,
   "id": "ec101cd9",
   "metadata": {},
   "outputs": [],
   "source": [
    "x, xdot, idxs = batches.next()\n",
    "print(f'shape x: {x.shape},   shape xdot: {xdot.shape}')"
   ]
  },
  {
   "cell_type": "code",
   "execution_count": null,
   "id": "100705e7",
   "metadata": {},
   "outputs": [],
   "source": [
    "import numpy as np\n",
    "x_2_norm = np.linalg.norm(x, axis=1)\n",
    "x_2_norm_sum = x_2_norm.sum()\n",
    "x_2_norm_sum"
   ]
  },
  {
   "cell_type": "code",
   "execution_count": null,
   "id": "e701f097",
   "metadata": {},
   "outputs": [],
   "source": [
    "xdot_2_norm = np.linalg.norm(xdot, axis=1)\n",
    "xdot_2_norm_sum = xdot_2_norm.sum()\n",
    "xdot_2_norm_sum"
   ]
  },
  {
   "cell_type": "code",
   "execution_count": null,
   "id": "21ac40a3",
   "metadata": {},
   "outputs": [],
   "source": [
    "x_2_norm_sum/xdot_2_norm_sum"
   ]
  },
  {
   "cell_type": "code",
   "execution_count": null,
   "id": "effa7076",
   "metadata": {},
   "outputs": [],
   "source": [
    "x_hat, xdot_hat, z, zdot, zdot_hat = model.cuda()(x.cuda(), xdot.cuda())"
   ]
  },
  {
   "cell_type": "code",
   "execution_count": null,
   "id": "4a0e22cd",
   "metadata": {},
   "outputs": [],
   "source": []
  },
  {
   "cell_type": "code",
   "execution_count": null,
   "id": "5a06c966",
   "metadata": {},
   "outputs": [],
   "source": [
    "import matplotlib.pyplot as plt\n",
    "import examples.three_tank_system.constants as const\n",
    "from ipywidgets import interact\n",
    "import ipywidgets as widgets\n",
    "\n",
    "def plot_x_space_fit_for_sample(sample=0):\n",
    "    #select random sample and compare original and recostruction\n",
    "    # sample = 477\n",
    "    x_sample = x[sample, :].cpu().detach().numpy()\n",
    "    xhat_sample = x_hat[sample, :].cpu().detach().numpy()\n",
    "    z_sample = z[sample, :].cpu().detach().numpy()\n",
    "    xdot_sample = xdot[sample, :].cpu().detach().numpy()\n",
    "    xdot_hat_sample = xdot_hat[sample, :].cpu().detach().numpy()\n",
    "    zdot_sample = zdot[sample, :].cpu().detach().numpy()\n",
    "    zdot_hat_sample = zdot_hat[sample, :].cpu().detach().numpy()\n",
    "    idx_sample = idxs[sample]\n",
    "    f, axarr = plt.subplots(1,2)\n",
    "    axarr[0].imshow(x_sample.reshape(const.PICTURE_SIZE, const.PICTURE_SIZE))\n",
    "    axarr[1].imshow(xhat_sample.reshape(const.PICTURE_SIZE, const.PICTURE_SIZE))\n",
    "    f, axarr = plt.subplots(1,2)\n",
    "    axarr[0].imshow(xdot_sample.reshape(const.PICTURE_SIZE, const.PICTURE_SIZE))\n",
    "    axarr[1].imshow(xdot_hat_sample.reshape(const.PICTURE_SIZE, const.PICTURE_SIZE))\n",
    "\n",
    "interact(plot_x_space_fit_for_sample, sample=[25*i for i in range(100)])"
   ]
  },
  {
   "cell_type": "code",
   "execution_count": null,
   "id": "5b453583",
   "metadata": {},
   "outputs": [],
   "source": [
    "from plotly.subplots import make_subplots\n",
    "import plotly.graph_objects as go\n",
    "import numpy as np\n",
    "\n",
    "\n",
    "fig = make_subplots(rows=1, cols=3, shared_xaxes=False)\n",
    "\n",
    "for i in range(3):\n",
    "    fig.add_trace(go.Scatter(x=zdot[:, i].cpu().detach().numpy(),\n",
    "                       y=zdot_hat[:, i].cpu().detach().numpy(),\n",
    "                      mode='markers', name=f'zdot_hat{i} over zdot{i}',\n",
    "#                              marker_color='blue',\n",
    "                             opacity=.7), row=1, col=1+i)\n",
    "fig.show()"
   ]
  },
  {
   "cell_type": "code",
   "execution_count": null,
   "id": "adca2608",
   "metadata": {},
   "outputs": [],
   "source": [
    "XI = model.XI.cpu().detach().numpy()\n",
    "XI.max()"
   ]
  },
  {
   "cell_type": "code",
   "execution_count": null,
   "id": "aeea1772",
   "metadata": {},
   "outputs": [],
   "source": [
    "import pandas as pd"
   ]
  },
  {
   "cell_type": "code",
   "execution_count": null,
   "id": "45db19e9",
   "metadata": {},
   "outputs": [],
   "source": [
    "df_XI = pd.DataFrame(XI, columns=['z0_dot_hat', 'z1_dot_hat', 'z2_dot_hat'])\n",
    "df_XI.index=model.SINDyLibrary.feature_names"
   ]
  },
  {
   "cell_type": "code",
   "execution_count": null,
   "id": "71b2ea10",
   "metadata": {},
   "outputs": [],
   "source": [
    "import plotly.express as px\n",
    "print(model.SINDyLibrary.feature_names)\n",
    "px.imshow(df_XI.abs())"
   ]
  },
  {
   "cell_type": "code",
   "execution_count": null,
   "id": "b0bba78c",
   "metadata": {},
   "outputs": [],
   "source": [
    "from plotly.subplots import make_subplots\n",
    "import plotly.graph_objects as go\n",
    "import numpy as np\n",
    "\n",
    "fig = make_subplots(rows=2, cols=3, shared_xaxes=True)\n",
    "\n",
    "for i in range(3):\n",
    "    fig.add_trace(go.Scatter(x=np.array(range(z.shape[0])),\n",
    "                       y=z[:, i].cpu().detach().numpy(),\n",
    "                      mode='markers', name=f'z{i}',\n",
    "                             marker_color='blue', opacity=.5), row=1, col=1+i,\n",
    "                    )\n",
    "for i in range(3):\n",
    "    fig.add_trace(go.Scatter(x=np.array(range(z.shape[0])),\n",
    "                       y=zdot_hat[:, i].cpu().detach().numpy(),\n",
    "                      mode='markers', name=f'zdot_hat{i}',\n",
    "                            marker_color='blue', opacity=.4), row=2, col=1+i)\n",
    "for i in range(3):\n",
    "    fig.add_trace(go.Scatter(x=np.array(range(z.shape[0])),\n",
    "                       y=zdot[:, i].cpu().detach().numpy(),\n",
    "                      mode='markers', name=f'zdot{i}',\n",
    "                             marker_color='green', opacity=.5), row=2, col=1+i)\n",
    "\n",
    "\n",
    "\n",
    "fig.update_layout(height=600, width=1200, title_text=\"Side By Side Subplots\")\n",
    "fig.show()"
   ]
  },
  {
   "cell_type": "code",
   "execution_count": null,
   "id": "5ade3a75",
   "metadata": {},
   "outputs": [],
   "source": [
    "import examples.three_tank_system.constants as const\n",
    "z_real = dataset.df.iloc[idxs][const.Z_COL_NAMES]\n",
    "fig = make_subplots(rows=3, cols=3, shared_xaxes=True)\n",
    "\n",
    "for i in range(3):\n",
    "    for j in range(3):\n",
    "        fig.add_trace(go.Scatter(y=z.detach().cpu().numpy()[:, i],\n",
    "                           x=z_real.values[:, j],\n",
    "                          mode='markers', name=f'z{i} over z_real{j}'), row=1+j, col=1+i)\n",
    "\n",
    "\n",
    "fig.update_layout(height=600, width=1200, title_text=\"Real hidden state vs latent activations\")\n",
    "fig.show()"
   ]
  },
  {
   "cell_type": "code",
   "execution_count": null,
   "id": "bf228bb7",
   "metadata": {},
   "outputs": [],
   "source": [
    "zdot_real = dataset.df.iloc[idxs][const.Z_DOT_COL_NAMES]\n",
    "fig = make_subplots(rows=3, cols=3, shared_xaxes=True)\n",
    "\n",
    "for i in range(3):\n",
    "    for j in range(3):\n",
    "        fig.add_trace(go.Scatter(y=zdot.detach().cpu().numpy()[:, i],\n",
    "                           x=zdot_real.values[:, j],\n",
    "                          mode='markers', name=f'zdot{i} over zdot_real{j}'), row=1+j, col=1+i)\n",
    "\n",
    "\n",
    "fig.update_layout(height=600, width=1200, title_text=\"Real hidden states derivatives vs predicted derivatives\")\n",
    "fig.show()"
   ]
  },
  {
   "cell_type": "code",
   "execution_count": null,
   "id": "bbb373f0",
   "metadata": {},
   "outputs": [],
   "source": []
  },
  {
   "cell_type": "code",
   "execution_count": null,
   "id": "fcb2d80a",
   "metadata": {},
   "outputs": [],
   "source": []
  },
  {
   "cell_type": "code",
   "execution_count": null,
   "id": "eee0112f",
   "metadata": {},
   "outputs": [],
   "source": []
  },
  {
   "cell_type": "code",
   "execution_count": null,
   "id": "bfe33235",
   "metadata": {},
   "outputs": [],
   "source": []
  },
  {
   "cell_type": "code",
   "execution_count": null,
   "id": "9ac98bc0",
   "metadata": {},
   "outputs": [],
   "source": []
  },
  {
   "cell_type": "code",
   "execution_count": null,
   "id": "5ff51359",
   "metadata": {},
   "outputs": [],
   "source": []
  },
  {
   "cell_type": "code",
   "execution_count": null,
   "id": "10a90265",
   "metadata": {},
   "outputs": [],
   "source": [
    "model.XI_coefficient_mask"
   ]
  },
  {
   "cell_type": "code",
   "execution_count": null,
   "id": "aa7e9251",
   "metadata": {},
   "outputs": [],
   "source": []
  },
  {
   "cell_type": "code",
   "execution_count": null,
   "id": "23145d31",
   "metadata": {},
   "outputs": [],
   "source": []
  },
  {
   "cell_type": "code",
   "execution_count": null,
   "id": "4bea013a",
   "metadata": {},
   "outputs": [],
   "source": []
  }
 ],
 "metadata": {
  "kernelspec": {
   "display_name": "Python 3 (ipykernel)",
   "language": "python",
   "name": "python3"
  },
  "language_info": {
   "codemirror_mode": {
    "name": "ipython",
    "version": 3
   },
   "file_extension": ".py",
   "mimetype": "text/x-python",
   "name": "python",
   "nbconvert_exporter": "python",
   "pygments_lexer": "ipython3",
   "version": "3.9.5"
  }
 },
 "nbformat": 4,
 "nbformat_minor": 5
}
